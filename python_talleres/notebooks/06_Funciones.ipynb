{
 "cells": [
  {
   "cell_type": "markdown",
   "metadata": {},
   "source": [
    "# 6) Funciones\n",
    "\n",
    "## ¿Qué son?\n",
    "Bloques reutilizables de código que **reciben parámetros** y **devuelven resultados**.\n",
    "\n",
    "## ¿Para qué se usan?\n",
    "Para **encapsular lógica**, evitar duplicación y mejorar claridad y pruebas.\n",
    "\n",
    "## Ideas clave\n",
    "- `def nombre(param...) -> retorno`\n",
    "- Valores por defecto, *docstrings*, pruebas simples\n",
    "- Ámbito: variables locales vs globales\n"
   ]
  },
  {
   "cell_type": "code",
   "execution_count": null,
   "metadata": {},
   "outputs": [],
   "source": [
    "def saluda(nombre: str) -> str:\n",
    "    \"\"\"Devuelve un saludo personalizado.\"\"\"\n",
    "    return f\"Hola, {nombre}!\"\n",
    "\n",
    "def potencia(base: float, exp: int = 2) -> float:\n",
    "    return base ** exp\n",
    "\n",
    "print(saluda(\"Ada\"))\n",
    "print(\"Potencia:\", potencia(3), potencia(2, 5))\n"
   ]
  },
  {
   "cell_type": "markdown",
   "metadata": {},
   "source": [
    "### Ejercicios\n",
    "- E1: `suma(a,b)` y `es_par(n)`.\n",
    "- E2: `promedio(numeros: list[float]) -> float`.\n",
    "- E3: `normaliza_nombre(s)`: quita espacios y capitaliza.\n",
    "\n",
    "### Reto extra\n",
    "`filtra_mayores(lista, umbral)` y `transforma(lista, f)` (simulan `filter`/`map`).\n"
   ]
  },
  {
   "cell_type": "code",
   "execution_count": null,
   "id": "d6e5279f",
   "metadata": {},
   "outputs": [],
   "source": [
    "# E1\n",
    "def suma(a, b):\n",
    "    return a + b\n",
    "\n",
    "def es_par(n):\n",
    "    return n % 2 == 0\n",
    "\n",
    "print(suma(3, 4))\n",
    "print(es_par(6))\n",
    "\n",
    "# E2\n",
    "def promedio(lista_numeros):\n",
    "    return sum(lista_numeros) / len(lista_numeros)\n",
    "\n",
    "print(promedio([5, 10, 15]))\n",
    "\n",
    "# E3\n",
    "def normaliza_nombre(texto):\n",
    "    return texto.strip().capitalize()\n",
    "\n",
    "print(normaliza_nombre(\"  juan  \"))\n"
   ]
  },
  {
   "cell_type": "code",
   "execution_count": null,
   "metadata": {},
   "outputs": [],
   "source": [
    "# Pista para promedio\n",
    "def promedio(nums):\n",
    "    return sum(nums) / len(nums) if nums else 0.0\n",
    "\n",
    "print(\"Promedio de [1,2,3]:\", promedio([1,2,3]))\n"
   ]
  }
 ],
 "metadata": {
  "kernelspec": {
   "display_name": "Python 3",
   "language": "python",
   "name": "python3"
  },
  "language_info": {
   "name": "python",
   "version": "3.x"
  }
 },
 "nbformat": 4,
 "nbformat_minor": 5
}
