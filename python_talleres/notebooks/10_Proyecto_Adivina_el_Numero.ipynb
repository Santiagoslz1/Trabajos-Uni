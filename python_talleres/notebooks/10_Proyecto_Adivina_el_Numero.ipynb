{
 "cells": [
  {
   "cell_type": "markdown",
   "metadata": {},
   "source": [
    "# 10) Mini-proyecto integrador: *Adivina el número*\n",
    "\n",
    "## ¿Qué es?\n",
    "Un pequeño juego de consola para **aplicar todo lo aprendido**: entrada/salida, condicionales, bucles, funciones, manejo de errores y módulos.\n",
    "\n",
    "## ¿Para qué se usa?\n",
    "Para **integrar conceptos** en un programa con lógica de juego, retroalimentación y control de intentos.\n"
   ]
  },
  {
   "cell_type": "markdown",
   "metadata": {},
   "source": [
    "## Especificación\n",
    "- La máquina piensa un número de 1 a 20.\n",
    "- El usuario tiene 3 intentos.\n",
    "- Indica si el intento es mayor/menor y termina si acierta.\n",
    "- Maneja entradas inválidas sin romper el programa.\n",
    "\n",
    "## Extensiones sugeridas\n",
    "- Registrar los intentos y mostrarlos al final.\n",
    "- Elegir rango e intentos.\n",
    "- Guardar/leer puntuaciones de un archivo sencillo.\n"
   ]
  },
  {
   "cell_type": "code",
   "execution_count": null,
   "metadata": {},
   "outputs": [],
   "source": [
    "import random\n",
    "\n",
    "def leer_int(msg):\n",
    "    while True:\n",
    "        try:\n",
    "            return int(input(msg))\n",
    "        except ValueError:\n",
    "            print(\"Ingresa un entero válido.\")\n",
    "\n",
    "def juego(intentos=3, minimo=1, maximo=20):\n",
    "    secreto = random.randint(minimo, maximo)\n",
    "    print(f\"Adivina el número entre {minimo} y {maximo}. Tienes {intentos} intentos.\")\n",
    "    for i in range(1, intentos+1):\n",
    "        n = leer_int(f\"Intento {i}: \")\n",
    "        if n == secreto:\n",
    "            print(\"¡Correcto!\")\n",
    "            return\n",
    "        pista = \"mayor\" if n < secreto else \"menor\"\n",
    "        print(f\"No es. Pista: el secreto es {pista}.\")\n",
    "    print(f\"Sin intentos. Era {secreto}.\")\n",
    "\n",
    "if __name__ == \"__main__\":\n",
    "    juego()\n"
   ]
  },
  {
   "cell_type": "code",
   "execution_count": 1,
   "id": "bb8a4040",
   "metadata": {},
   "outputs": [
    {
     "name": "stdout",
     "output_type": "stream",
     "text": [
      "Demasiado bajo\n",
      "Demasiado bajo\n",
      "Demasiado bajo\n",
      "Perdiste, el número era 14\n",
      "Tus intentos: [5, 8, 9]\n"
     ]
    },
    {
     "ename": "ValueError",
     "evalue": "invalid literal for int() with base 10: ''",
     "output_type": "error",
     "traceback": [
      "\u001b[31m---------------------------------------------------------------------------\u001b[39m",
      "\u001b[31mValueError\u001b[39m                                Traceback (most recent call last)",
      "\u001b[36mCell\u001b[39m\u001b[36m \u001b[39m\u001b[32mIn[1]\u001b[39m\u001b[32m, line 29\u001b[39m\n\u001b[32m     24\u001b[39m     \u001b[38;5;28mprint\u001b[39m(\u001b[33m\"\u001b[39m\u001b[33mPerdiste, el número era\u001b[39m\u001b[33m\"\u001b[39m, numero_secreto)\n\u001b[32m     26\u001b[39m \u001b[38;5;28mprint\u001b[39m(\u001b[33m\"\u001b[39m\u001b[33mTus intentos:\u001b[39m\u001b[33m\"\u001b[39m, intentos_realizados)\n\u001b[32m---> \u001b[39m\u001b[32m29\u001b[39m rango_maximo = \u001b[38;5;28;43mint\u001b[39;49m\u001b[43m(\u001b[49m\u001b[38;5;28;43minput\u001b[39;49m\u001b[43m(\u001b[49m\u001b[33;43m\"\u001b[39;49m\u001b[33;43mNúmero máximo: \u001b[39;49m\u001b[33;43m\"\u001b[39;49m\u001b[43m)\u001b[49m\u001b[43m)\u001b[49m\n\u001b[32m     30\u001b[39m total_intentos = \u001b[38;5;28mint\u001b[39m(\u001b[38;5;28minput\u001b[39m(\u001b[33m\"\u001b[39m\u001b[33mCantidad de intentos: \u001b[39m\u001b[33m\"\u001b[39m))\n\u001b[32m     31\u001b[39m numero_secreto = random.randint(\u001b[32m1\u001b[39m, rango_maximo)\n",
      "\u001b[31mValueError\u001b[39m: invalid literal for int() with base 10: ''"
     ]
    }
   ],
   "source": [
    "import random\n",
    "\n",
    "numero_secreto = random.randint(1, 20)\n",
    "intentos_restantes = 3\n",
    "intentos_realizados = []\n",
    "\n",
    "while intentos_restantes > 0:\n",
    "    entrada = input(\"Adivina el número: \")\n",
    "    try:\n",
    "        intento = int(entrada)\n",
    "    except ValueError:\n",
    "        print(\"Entrada inválida\")\n",
    "        continue\n",
    "    intentos_realizados.append(intento)\n",
    "    if intento == numero_secreto:\n",
    "        print(\"¡Acertaste!\")\n",
    "        break\n",
    "    elif intento < numero_secreto:\n",
    "        print(\"Demasiado bajo\")\n",
    "    else:\n",
    "        print(\"Demasiado alto\")\n",
    "    intentos_restantes -= 1\n",
    "else:\n",
    "    print(\"Perdiste, el número era\", numero_secreto)\n",
    "\n",
    "print(\"Tus intentos:\", intentos_realizados)\n",
    "\n",
    "\n",
    "rango_maximo = int(input(\"Número máximo: \"))\n",
    "total_intentos = int(input(\"Cantidad de intentos: \"))\n",
    "numero_secreto = random.randint(1, rango_maximo)\n",
    "intentos_realizados = []\n",
    "\n",
    "for _ in range(total_intentos):\n",
    "    entrada = input(\"Adivina el número: \")\n",
    "    try:\n",
    "        intento = int(entrada)\n",
    "    except ValueError:\n",
    "        print(\"Entrada inválida\")\n",
    "        continue\n",
    "    intentos_realizados.append(intento)\n",
    "    if intento == numero_secreto:\n",
    "        print(\"¡Acertaste!\")\n",
    "        break\n",
    "    elif intento < numero_secreto:\n",
    "        print(\"Demasiado bajo\")\n",
    "    else:\n",
    "        print(\"Demasiado alto\")\n",
    "else:\n",
    "    print(\"Perdiste, el número era\", numero_secreto)\n",
    "print(\"Tus intentos:\", intentos_realizados)\n",
    "\n",
    "\n",
    "puntos = max(0, total_intentos - len(intentos_realizados))\n",
    "with open(\"puntuaciones.txt\", \"a\") as archivo:\n",
    "    archivo.write(f\"Puntos: {puntos}, Intentos: {intentos_realizados}\\n\")\n",
    "\n",
    "with open(\"puntuaciones.txt\") as archivo:\n",
    "    print(\"Historial de puntuaciones:\\n\", archivo.read())\n"
   ]
  }
 ],
 "metadata": {
  "kernelspec": {
   "display_name": ".venv",
   "language": "python",
   "name": "python3"
  },
  "language_info": {
   "codemirror_mode": {
    "name": "ipython",
    "version": 3
   },
   "file_extension": ".py",
   "mimetype": "text/x-python",
   "name": "python",
   "nbconvert_exporter": "python",
   "pygments_lexer": "ipython3",
   "version": "3.13.7"
  }
 },
 "nbformat": 4,
 "nbformat_minor": 5
}
