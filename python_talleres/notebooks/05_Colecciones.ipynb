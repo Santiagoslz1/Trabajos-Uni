{
 "cells": [
  {
   "cell_type": "markdown",
   "metadata": {},
   "source": [
    "# 5) Colecciones: listas, tuplas y diccionarios\n",
    "\n",
    "## ¿Qué son?\n",
    "Estructuras para **agrupar datos**: secuencias (`list`, `tuple`) y mapeos (`dict`).\n",
    "\n",
    "## ¿Para qué se usan?\n",
    "Para **organizar, acceder y transformar** conjuntos de valores.\n",
    "\n",
    "## Puntos clave\n",
    "- `list` (mutable) — métodos como `append`, `pop`, `sort`.\n",
    "- `tuple` (inmutable) — útil para datos que no cambian.\n",
    "- `dict` (clave→valor) — acceso por clave y métodos `.items()`, `.keys()`.\n"
   ]
  },
  {
   "cell_type": "code",
   "execution_count": null,
   "metadata": {},
   "outputs": [],
   "source": [
    "comidas = [\"arepa\", \"ajiaco\", \"bandeja\"]\n",
    "comidas.append(\"sancocho\")\n",
    "print(\"Lista:\", comidas)\n",
    "\n",
    "punto = (10, 20)\n",
    "print(\"Tupla:\", punto[0], punto[1])\n",
    "\n",
    "persona = {\"nombre\": \"Ada\", \"edad\": 28, \"ciudad\": \"Bogotá\"}\n",
    "persona[\"edad\"] += 1\n",
    "for k, v in persona.items():\n",
    "    print(k, \"->\", v)\n"
   ]
  },
  {
   "cell_type": "markdown",
   "metadata": {},
   "source": [
    "### Ejercicios\n",
    "- E1: Lista de 5 números, calcula suma y promedio.\n",
    "- E2: Diccionario de 3 contactos (nombre→tel), consulta por nombre.\n",
    "- E3: Convierte lista de pares `(clave, valor)` en `dict` y recórrelo.\n",
    "\n",
    "### Reto extra\n",
    "**Inventario simple**: lista de dicts con `{\"producto\",\"precio\",\"stock\"}`. Muestra:\n",
    "- Total del inventario.\n",
    "- Producto más caro.\n"
   ]
  },
  {
   "cell_type": "code",
   "execution_count": null,
   "id": "4f51bd20",
   "metadata": {},
   "outputs": [],
   "source": [
    "# E1\n",
    "lista_numeros = [5, 10, 15, 20, 25]\n",
    "suma_total = sum(lista_numeros)\n",
    "promedio_total = suma_total / len(lista_numeros)\n",
    "print(suma_total, promedio_total)\n",
    "\n",
    "# E2\n",
    "contactos = {\"Ana\": \"123\", \"Luis\": \"456\", \"Maria\": \"789\"}\n",
    "nombre_buscar = input()\n",
    "print(contactos[nombre_buscar])\n",
    "\n",
    "# E3\n",
    "lista_pares = [(\"a\", 1), (\"b\", 2), (\"c\", 3)]\n",
    "diccionario = dict(lista_pares)\n",
    "for clave, valor in diccionario.items():\n",
    "    print(clave, valor)\n"
   ]
  }
 ],
 "metadata": {
  "kernelspec": {
   "display_name": "Python 3",
   "language": "python",
   "name": "python3"
  },
  "language_info": {
   "name": "python",
   "version": "3.x"
  }
 },
 "nbformat": 4,
 "nbformat_minor": 5
}
