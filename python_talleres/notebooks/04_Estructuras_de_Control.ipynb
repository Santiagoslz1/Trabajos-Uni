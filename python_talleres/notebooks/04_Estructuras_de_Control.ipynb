{
 "cells": [
  {
   "cell_type": "markdown",
   "metadata": {},
   "source": [
    "# 4) Estructuras de control: `if`, `for`, `while`\n",
    "\n",
    "## ¿Qué son?\n",
    "Mecanismos para **tomar decisiones** (`if`) y **repetir acciones** (`for`, `while`).\n",
    "\n",
    "## ¿Para qué se usan?\n",
    "Para **controlar el flujo** de un programa según condiciones y colecciones.\n",
    "\n",
    "## Ideas clave\n",
    "- La **indentación** define bloques.\n",
    "- `for` itera sobre secuencias; `range(n)` genera 0..n-1.\n",
    "- `while` repite mientras la condición sea verdadera.\n",
    "- `break`/`continue` controlan el bucle.\n"
   ]
  },
  {
   "cell_type": "code",
   "execution_count": null,
   "metadata": {},
   "outputs": [],
   "source": [
    "# Par o impar\n",
    "n = 7\n",
    "if n % 2 == 0:\n",
    "    print(\"Par\")\n",
    "else:\n",
    "    print(\"Impar\")\n",
    "\n",
    "# Suma 1..10\n",
    "total = 0\n",
    "for i in range(1, 11):\n",
    "    total += i\n",
    "print(\"Suma 1..10:\", total)\n",
    "\n",
    "# Cuenta regresiva con while\n",
    "c = 5\n",
    "while c > 0:\n",
    "    print(c)\n",
    "    c -= 1\n"
   ]
  },
  {
   "cell_type": "code",
   "execution_count": 11,
   "id": "34a81f5e",
   "metadata": {},
   "outputs": [
    {
     "name": "stdout",
     "output_type": "stream",
     "text": [
      "B\n",
      "5 x 1 = 5\n",
      "5 x 2 = 10\n",
      "5 x 3 = 15\n",
      "5 x 4 = 20\n",
      "5 x 5 = 25\n",
      "5 x 6 = 30\n",
      "5 x 7 = 35\n",
      "5 x 8 = 40\n",
      "5 x 9 = 45\n",
      "5 x 10 = 50\n",
      "15 7.5\n"
     ]
    }
   ],
   "source": [
    "nota = 85\n",
    "if nota >= 90: print(\"A\")\n",
    "elif nota >= 80: print(\"B\")\n",
    "elif nota >= 70: print(\"C\")\n",
    "elif nota >= 60: print(\"D\")\n",
    "else: print(\"F\")\n",
    "\n",
    "numero1 = 5\n",
    "for i in range(1, 11): print(numero1, \"x\", i, \"=\", numero1 * i)\n",
    "\n",
    "\n",
    "suma = 0\n",
    "contador = 0\n",
    "n = int(input())\n",
    "while n != 0:\n",
    "    suma += n\n",
    "    contador += 1\n",
    "    n = int(input())\n",
    "print(suma, suma/contador)\n"
   ]
  },
  {
   "cell_type": "markdown",
   "metadata": {},
   "source": [
    "### Ejercicios\n",
    "- E1: Clasifica una nota (0–100) en A/B/C/D/F.\n",
    "- E2: Imprime la tabla de multiplicar de un número (1–10).\n",
    "- E3: Con `while`, pide números hasta 0; muestra suma y promedio.\n",
    "\n",
    "### Reto extra\n",
    "**FizzBuzz** de 1 a 100.\n"
   ]
  }
 ],
 "metadata": {
  "kernelspec": {
   "display_name": ".venv",
   "language": "python",
   "name": "python3"
  },
  "language_info": {
   "codemirror_mode": {
    "name": "ipython",
    "version": 3
   },
   "file_extension": ".py",
   "mimetype": "text/x-python",
   "name": "python",
   "nbconvert_exporter": "python",
   "pygments_lexer": "ipython3",
   "version": "3.13.7"
  }
 },
 "nbformat": 4,
 "nbformat_minor": 5
}
